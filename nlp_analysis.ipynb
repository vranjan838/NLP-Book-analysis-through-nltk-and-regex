{
 "cells": [
  {
   "cell_type": "markdown",
   "id": "bf47afe9-872e-4637-9ca0-e996a8bd9868",
   "metadata": {},
   "source": [
    "# Loading the Book"
   ]
  },
  {
   "cell_type": "code",
   "execution_count": 1,
   "id": "223ad94a-5aa6-4626-a291-c5a6681efbf1",
   "metadata": {},
   "outputs": [],
   "source": [
    "with open(\"miracle_in_the_andes.txt\", \"r\", encoding=\"utf-8\", errors=\"ignore\") as file:\n",
    "    book = file.read()"
   ]
  },
  {
   "cell_type": "markdown",
   "id": "f6d62a68-4265-4852-b1c9-ddd47c26d073",
   "metadata": {},
   "source": [
    "## The most used words(non-aticles)"
   ]
  },
  {
   "cell_type": "code",
   "execution_count": 4,
   "id": "9bda838e-0e01-43e1-b4c0-7dbb9249f510",
   "metadata": {},
   "outputs": [
    {
     "data": {
      "text/plain": [
       "['chapter', 'before', 'it', 'was', 'friday']"
      ]
     },
     "execution_count": 4,
     "metadata": {},
     "output_type": "execute_result"
    }
   ],
   "source": [
    "import re\n",
    "pattern = re.compile(\"[a-zA-z]+\")\n",
    "findings = re.findall(pattern, book.lower())\n",
    "findings[:5]"
   ]
  },
  {
   "cell_type": "code",
   "execution_count": 5,
   "id": "7f52696a-d970-4381-9957-f3a27e49e210",
   "metadata": {},
   "outputs": [],
   "source": [
    "d = {}\n",
    "for word in findings:\n",
    "    if word in d.keys():\n",
    "        d[word] = d[word]+1\n",
    "    else:\n",
    "        d[word] = 1"
   ]
  },
  {
   "cell_type": "code",
   "execution_count": 6,
   "id": "452300ff-21d9-4684-b418-c376d9816fe5",
   "metadata": {},
   "outputs": [
    {
     "data": {
      "text/plain": [
       "[(5346, 'the'), (2795, 'and'), (2729, 'i'), (2400, 'to'), (2060, 'of')]"
      ]
     },
     "execution_count": 6,
     "metadata": {},
     "output_type": "execute_result"
    }
   ],
   "source": [
    "d_list = [(value, key) for (key,value) in d.items()]\n",
    "d_list = sorted(d_list, reverse= True)\n",
    "d_list[:5]"
   ]
  },
  {
   "cell_type": "code",
   "execution_count": 7,
   "id": "589dcaa5-53ca-4b2c-ba9d-61f9343018f9",
   "metadata": {},
   "outputs": [
    {
     "name": "stdout",
     "output_type": "stream",
     "text": [
      "Collecting nltk\n",
      "  Downloading nltk-3.9.1-py3-none-any.whl.metadata (2.9 kB)\n",
      "Collecting click (from nltk)\n",
      "  Using cached click-8.1.7-py3-none-any.whl.metadata (3.0 kB)\n",
      "Collecting joblib (from nltk)\n",
      "  Downloading joblib-1.4.2-py3-none-any.whl.metadata (5.4 kB)\n",
      "Collecting regex>=2021.8.3 (from nltk)\n",
      "  Downloading regex-2024.11.6-cp312-cp312-win_amd64.whl.metadata (41 kB)\n",
      "     ---------------------------------------- 0.0/41.5 kB ? eta -:--:--\n",
      "     --------- ------------------------------ 10.2/41.5 kB ? eta -:--:--\n",
      "     ---------------------------- --------- 30.7/41.5 kB 330.3 kB/s eta 0:00:01\n",
      "     -------------------------------------- 41.5/41.5 kB 287.2 kB/s eta 0:00:00\n",
      "Collecting tqdm (from nltk)\n",
      "  Downloading tqdm-4.67.1-py3-none-any.whl.metadata (57 kB)\n",
      "     ---------------------------------------- 0.0/57.7 kB ? eta -:--:--\n",
      "     ---------------------------------------- 57.7/57.7 kB 1.5 MB/s eta 0:00:00\n",
      "Requirement already satisfied: colorama in c:\\users\\khushi computer\\desktop\\book-analysis\\venv\\lib\\site-packages (from click->nltk) (0.4.6)\n",
      "Downloading nltk-3.9.1-py3-none-any.whl (1.5 MB)\n",
      "   ---------------------------------------- 0.0/1.5 MB ? eta -:--:--\n",
      "   --------------- ------------------------ 0.6/1.5 MB 12.5 MB/s eta 0:00:01\n",
      "   ------------------------------ --------- 1.1/1.5 MB 12.1 MB/s eta 0:00:01\n",
      "   ---------------------------------------- 1.5/1.5 MB 10.7 MB/s eta 0:00:00\n",
      "Downloading regex-2024.11.6-cp312-cp312-win_amd64.whl (273 kB)\n",
      "   ---------------------------------------- 0.0/273.6 kB ? eta -:--:--\n",
      "   --------------------------------------- 273.6/273.6 kB 17.6 MB/s eta 0:00:00\n",
      "Using cached click-8.1.7-py3-none-any.whl (97 kB)\n",
      "Downloading joblib-1.4.2-py3-none-any.whl (301 kB)\n",
      "   ---------------------------------------- 0.0/301.8 kB ? eta -:--:--\n",
      "   --------------------------------------- 301.8/301.8 kB 18.2 MB/s eta 0:00:00\n",
      "Downloading tqdm-4.67.1-py3-none-any.whl (78 kB)\n",
      "   ---------------------------------------- 0.0/78.5 kB ? eta -:--:--\n",
      "   ---------------------------------------- 78.5/78.5 kB ? eta 0:00:00\n",
      "Installing collected packages: tqdm, regex, joblib, click, nltk\n",
      "Successfully installed click-8.1.7 joblib-1.4.2 nltk-3.9.1 regex-2024.11.6 tqdm-4.67.1\n"
     ]
    },
    {
     "name": "stderr",
     "output_type": "stream",
     "text": [
      "\n",
      "[notice] A new release of pip is available: 24.0 -> 24.3.1\n",
      "[notice] To update, run: python.exe -m pip install --upgrade pip\n"
     ]
    }
   ],
   "source": [
    "!pip3.12 install nltk"
   ]
  },
  {
   "cell_type": "code",
   "execution_count": 9,
   "id": "779b6630-192c-40bc-b90c-bc2fcc3433cc",
   "metadata": {},
   "outputs": [
    {
     "name": "stderr",
     "output_type": "stream",
     "text": [
      "[nltk_data] Downloading package stopwords to C:\\Users\\khushi\n",
      "[nltk_data]     computer\\AppData\\Roaming\\nltk_data...\n",
      "[nltk_data]   Unzipping corpora\\stopwords.zip.\n"
     ]
    },
    {
     "data": {
      "text/plain": [
       "True"
      ]
     },
     "execution_count": 9,
     "metadata": {},
     "output_type": "execute_result"
    }
   ],
   "source": [
    "import nltk\n",
    "nltk.download('stopwords')"
   ]
  },
  {
   "cell_type": "code",
   "execution_count": 10,
   "id": "0aa03151-0df3-4771-912b-399027dcdb45",
   "metadata": {},
   "outputs": [],
   "source": [
    "from nltk.corpus import stopwords"
   ]
  },
  {
   "cell_type": "code",
   "execution_count": 11,
   "id": "35687d18-c999-4b88-bbd2-fcb0185ed8bd",
   "metadata": {},
   "outputs": [],
   "source": [
    "english_stopwords = stopwords.words(\"english\")"
   ]
  },
  {
   "cell_type": "code",
   "execution_count": 14,
   "id": "92d1c29e-3bae-479d-8fb9-ea9dd03423c4",
   "metadata": {},
   "outputs": [],
   "source": [
    "filtered_words = []\n",
    "for count,word in d_list:\n",
    "    if word not in english_stopwords:\n",
    "        filtered_words.append((word, count))"
   ]
  },
  {
   "cell_type": "code",
   "execution_count": 16,
   "id": "b1631e4d-774e-464d-bcc1-4695791edd10",
   "metadata": {},
   "outputs": [
    {
     "data": {
      "text/plain": [
       "[('would', 575),\n",
       " ('us', 519),\n",
       " ('said', 292),\n",
       " ('roberto', 284),\n",
       " ('could', 252),\n",
       " ('one', 249),\n",
       " ('snow', 227),\n",
       " ('mountain', 183),\n",
       " ('time', 182),\n",
       " ('like', 165)]"
      ]
     },
     "execution_count": 16,
     "metadata": {},
     "output_type": "execute_result"
    }
   ],
   "source": [
    "filtered_words[:10]"
   ]
  },
  {
   "cell_type": "markdown",
   "id": "0ec01699-ed77-4d73-9dab-10f00b2517bb",
   "metadata": {},
   "source": [
    "## Sentiment Analysis: What are the most positive and the most negative chapters?"
   ]
  },
  {
   "cell_type": "code",
   "execution_count": 17,
   "id": "9820ca51-039c-47b3-9bdf-4b968ecc9e4f",
   "metadata": {},
   "outputs": [],
   "source": [
    "from nltk.sentiment import SentimentIntensityAnalyzer"
   ]
  },
  {
   "cell_type": "code",
   "execution_count": 19,
   "id": "16d7f13c-2107-4aeb-beba-60b3566fbe8d",
   "metadata": {},
   "outputs": [
    {
     "name": "stderr",
     "output_type": "stream",
     "text": [
      "[nltk_data] Downloading package vader_lexicon to C:\\Users\\khushi\n",
      "[nltk_data]     computer\\AppData\\Roaming\\nltk_data...\n"
     ]
    },
    {
     "data": {
      "text/plain": [
       "True"
      ]
     },
     "execution_count": 19,
     "metadata": {},
     "output_type": "execute_result"
    }
   ],
   "source": [
    "nltk.download('vader_lexicon')"
   ]
  },
  {
   "cell_type": "markdown",
   "id": "fc672f35-9168-46c8-9b60-774a4a2d1f98",
   "metadata": {},
   "source": [
    "### Examples"
   ]
  },
  {
   "cell_type": "code",
   "execution_count": 20,
   "id": "8cb21e14-6600-45f2-b921-de02898158da",
   "metadata": {},
   "outputs": [],
   "source": [
    "analyzer = SentimentIntensityAnalyzer()"
   ]
  },
  {
   "cell_type": "code",
   "execution_count": 24,
   "id": "c4761f16-058a-4bb5-9ae3-2c7ee9ba7a54",
   "metadata": {},
   "outputs": [],
   "source": [
    "scores= analyzer.polarity_scores(\"Hey, look how beautiful the trees are. I love them.\")"
   ]
  },
  {
   "cell_type": "code",
   "execution_count": 25,
   "id": "18718916-564d-46a9-9bdf-2af89094bf88",
   "metadata": {},
   "outputs": [
    {
     "name": "stdout",
     "output_type": "stream",
     "text": [
      "It is positive sentence.\n"
     ]
    }
   ],
   "source": [
    "if scores['pos'] > scores['neg']:\n",
    "    print(\"It is positive sentence.\")\n",
    "else:\n",
    "    print(\"It is negative sentence.\")"
   ]
  },
  {
   "cell_type": "code",
   "execution_count": 26,
   "id": "60c88d99-72d4-4a1f-904f-3252e5d2a283",
   "metadata": {},
   "outputs": [
    {
     "data": {
      "text/plain": [
       "{'neg': 0.116, 'neu': 0.76, 'pos': 0.125, 'compound': 1.0}"
      ]
     },
     "execution_count": 26,
     "metadata": {},
     "output_type": "execute_result"
    }
   ],
   "source": [
    "analyzer.polarity_scores(book)"
   ]
  },
  {
   "cell_type": "markdown",
   "id": "6804ecb3-a8aa-43dd-ac2f-d88ab1ddc177",
   "metadata": {},
   "source": [
    "### Chapters Sentiment Analysis"
   ]
  },
  {
   "cell_type": "code",
   "execution_count": 27,
   "id": "4c036fe8-60ea-4c50-b875-f62c5a9eabb4",
   "metadata": {},
   "outputs": [],
   "source": [
    "import re\n",
    "pattern = re.compile(\"Chapter [0-9]+\")\n",
    "chapters = re.split(pattern, book)"
   ]
  },
  {
   "cell_type": "code",
   "execution_count": 31,
   "id": "7ac3a33c-967f-43d3-8da3-579b3170e99c",
   "metadata": {},
   "outputs": [],
   "source": [
    "chapters = chapters[1:]"
   ]
  },
  {
   "cell_type": "code",
   "execution_count": null,
   "id": "4fdfc4f6-4b26-471d-81b4-ae0236e5f89a",
   "metadata": {},
   "outputs": [
    {
     "name": "stdout",
     "output_type": "stream",
     "text": [
      "Chapter 1 is positive\n",
      "Chapter 2 is positive\n",
      "Chapter 3 is negative\n",
      "Chapter 4 is negative\n",
      "Chapter 5 is positive\n",
      "Chapter 6 is negative\n",
      "Chapter 7 is negative\n",
      "Chapter 8 is negative\n",
      "Chapter 9 is negative\n"
     ]
    }
   ],
   "source": [
    "for nr,chapter in enumerate(chapters):\n",
    "    scores= analyzer.polarity_scores(chapter)\n",
    "    if scores['pos'] > scores['neg']:\n",
    "        print(f\"Chapter {nr+1} is positive\")\n",
    "    else:\n",
    "        print(f\"Chapter {nr+1} is negative\")"
   ]
  }
 ],
 "metadata": {
  "kernelspec": {
   "display_name": "Python 3 (ipykernel)",
   "language": "python",
   "name": "python3"
  },
  "language_info": {
   "codemirror_mode": {
    "name": "ipython",
    "version": 3
   },
   "file_extension": ".py",
   "mimetype": "text/x-python",
   "name": "python",
   "nbconvert_exporter": "python",
   "pygments_lexer": "ipython3",
   "version": "3.12.3"
  }
 },
 "nbformat": 4,
 "nbformat_minor": 5
}
